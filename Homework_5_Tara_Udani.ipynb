{
  "nbformat": 4,
  "nbformat_minor": 0,
  "metadata": {
    "colab": {
      "provenance": [],
      "authorship_tag": "ABX9TyOT41eq3/4JtIXle7VmynoM",
      "include_colab_link": true
    },
    "kernelspec": {
      "name": "python3",
      "display_name": "Python 3"
    },
    "language_info": {
      "name": "python"
    }
  },
  "cells": [
    {
      "cell_type": "markdown",
      "metadata": {
        "id": "view-in-github",
        "colab_type": "text"
      },
      "source": [
        "<a href=\"https://colab.research.google.com/github/taraudani/DS1002-S24---Tara-Udani/blob/main/Homework_5_Tara_Udani.ipynb\" target=\"_parent\"><img src=\"https://colab.research.google.com/assets/colab-badge.svg\" alt=\"Open In Colab\"/></a>"
      ]
    },
    {
      "cell_type": "markdown",
      "source": [
        "I worked on this assignment with Ava Wolsborn, but we submitted separately because we had different commentary."
      ],
      "metadata": {
        "id": "VrwqeEfI8KXs"
      }
    },
    {
      "cell_type": "code",
      "execution_count": 2,
      "metadata": {
        "colab": {
          "base_uri": "https://localhost:8080/"
        },
        "id": "wqMj-X8QDFDX",
        "outputId": "fcf411fc-e31e-462d-e3f6-0cf173fb2a9c"
      },
      "outputs": [
        {
          "output_type": "stream",
          "name": "stdout",
          "text": [
            "Collecting english_words\n",
            "  Downloading english-words-2.0.1.tar.gz (8.2 MB)\n",
            "\u001b[2K     \u001b[90m━━━━━━━━━━━━━━━━━━━━━━━━━━━━━━━━━━━━━━━━\u001b[0m \u001b[32m8.2/8.2 MB\u001b[0m \u001b[31m14.5 MB/s\u001b[0m eta \u001b[36m0:00:00\u001b[0m\n",
            "\u001b[?25h  Installing build dependencies ... \u001b[?25l\u001b[?25hdone\n",
            "  Getting requirements to build wheel ... \u001b[?25l\u001b[?25hdone\n",
            "  Preparing metadata (pyproject.toml) ... \u001b[?25l\u001b[?25hdone\n",
            "Building wheels for collected packages: english_words\n",
            "  Building wheel for english_words (pyproject.toml) ... \u001b[?25l\u001b[?25hdone\n",
            "  Created wheel for english_words: filename=english_words-2.0.1-py3-none-any.whl size=8196238 sha256=a7c5de6c0ad0b05dbd7c769b1370624db2b48010e223c7806d0252390a6c52a4\n",
            "  Stored in directory: /root/.cache/pip/wheels/f0/e6/d9/16a123647999fe535f03a36e7af23eef203736d84c7ca25b0b\n",
            "Successfully built english_words\n",
            "Installing collected packages: english_words\n",
            "Successfully installed english_words-2.0.1\n"
          ]
        }
      ],
      "source": [
        "!pip install english_words\n",
        "from english_words import get_english_words_set\n",
        "words = get_english_words_set(['web2'], lower=True)"
      ]
    },
    {
      "cell_type": "code",
      "source": [
        "#1\n",
        "\n",
        "#This prints the type of the data (set)\n",
        "print(type(words))\n",
        "\n",
        "#len gets the length of the list of words, defined by 'wordlist'\n",
        "wordlist = list(words)\n",
        "print(\"The length of wordlist is: \" + str(len(wordlist)))\n"
      ],
      "metadata": {
        "colab": {
          "base_uri": "https://localhost:8080/"
        },
        "id": "7HCa7l2PDz6Y",
        "outputId": "c6dc7f1e-d4c5-4458-d202-74bcfcf0fdbe"
      },
      "execution_count": 3,
      "outputs": [
        {
          "output_type": "stream",
          "name": "stdout",
          "text": [
            "<class 'set'>\n",
            "The length of wordlist is: 234450\n"
          ]
        }
      ]
    },
    {
      "cell_type": "code",
      "source": [
        "#2\n",
        "\n",
        "#This prints the first 10 words in wordlist under the name 'tenwords'\n",
        "#The words in wordlist are currently random and not in any order\n",
        "\n",
        "tenwords = wordlist[0:10]\n",
        "print(tenwords)\n"
      ],
      "metadata": {
        "colab": {
          "base_uri": "https://localhost:8080/"
        },
        "id": "p-zr7cABK9Jq",
        "outputId": "028ce3c9-33c5-4527-84a0-ec9bc022b42c"
      },
      "execution_count": 4,
      "outputs": [
        {
          "output_type": "stream",
          "name": "stdout",
          "text": [
            "['subbrigade', 'aneurysmal', 'posole', 'nayarit', 'coeval', 'mephistopheleanly', 'coldheartedly', 'vomerobasilar', 'semiseptate', 'nonfederal']\n"
          ]
        }
      ]
    },
    {
      "cell_type": "code",
      "source": [
        "#3\n",
        "\n",
        "#alpha_list is now the alphabetically ordered version of wordlist\n",
        "#Printed the first 10 words in alpha_list with the range :10\n",
        "\n",
        "alpha_list = sorted(wordlist)\n",
        "print(alpha_list[:10])\n"
      ],
      "metadata": {
        "colab": {
          "base_uri": "https://localhost:8080/"
        },
        "id": "8d04hevgLD06",
        "outputId": "89f3f0a7-597f-48cf-c0d4-0601d83254e0"
      },
      "execution_count": 5,
      "outputs": [
        {
          "output_type": "stream",
          "name": "stdout",
          "text": [
            "['a', 'aa', 'aal', 'aalii', 'aam', 'aani', 'aardvark', 'aardwolf', 'aaron', 'aaronic']\n"
          ]
        }
      ]
    },
    {
      "cell_type": "code",
      "source": [
        "#4\n",
        "\n",
        "#To get the number of words that start with A, in a for loop we set the index of the word to 0 (the first letter) and had it + 1 to a_count when that index was equivalent to A\n",
        "a_count = 0\n",
        "for word in alpha_list:\n",
        "    if word[0] == \"a\":\n",
        "        a_count += 1\n",
        "print(\"This is how many words start with A: \" + str(a_count))\n"
      ],
      "metadata": {
        "colab": {
          "base_uri": "https://localhost:8080/"
        },
        "id": "GOsRPZtnLTOR",
        "outputId": "cd8623b9-7d19-4ac8-ca81-0993a6a3f669"
      },
      "execution_count": 6,
      "outputs": [
        {
          "output_type": "stream",
          "name": "stdout",
          "text": [
            "This is how many words start with A: 16982\n"
          ]
        }
      ]
    },
    {
      "cell_type": "code",
      "source": [
        "#5\n",
        "\n",
        "#The process for finding how many words have Q is similar to finding those starting with A, but there is no index definition because we want it to search the whole word, not just the first letter\n",
        "q_count = 0\n",
        "for word in wordlist:\n",
        "    if \"q\" in word:\n",
        "        q_count += 1\n",
        "print(\"This is how many word have a Q in them: \" + str(q_count))\n",
        "\n",
        "#To find the number of words without E in them, we first have to establish the count of words with e in them and we call this e_count. The for loop adds 1 to the e_count if E is in the word\n",
        "#Then we find the total number of words in the wordlist and call that total\n",
        "#In order to get the fraction we do the total minus the e_count over the total\n",
        "e_count = 0\n",
        "for word in wordlist:\n",
        "    if \"e\" in word:\n",
        "        e_count += 1\n",
        "total = len(wordlist)\n",
        "e_fraction = (total - e_count)/(total)\n",
        "print(\"This is the fraction of words that do NOT have an E in them: \" + str(e_fraction))"
      ],
      "metadata": {
        "colab": {
          "base_uri": "https://localhost:8080/"
        },
        "id": "hf-5IcstLWr0",
        "outputId": "9aed6606-2a54-46dd-be5f-25ace7199d50"
      },
      "execution_count": 7,
      "outputs": [
        {
          "output_type": "stream",
          "name": "stdout",
          "text": [
            "This is how many word have a Q in them: 3624\n",
            "This is the fraction of words that do NOT have an E in them: 0.32828321603753463\n"
          ]
        }
      ]
    },
    {
      "cell_type": "code",
      "source": [
        "#6\n",
        "\n",
        "import numpy as np\n",
        "\n",
        "np.array(wordlist)\n",
        "np.array(alpha_list)\n",
        "\n",
        "#this function prints every letter of the alphabet\n",
        "alphabet = [chr(i) for i in range(ord('a'),ord('z')+1)]\n",
        "print(alphabet)\n"
      ],
      "metadata": {
        "colab": {
          "base_uri": "https://localhost:8080/"
        },
        "id": "gLDVoI-VNctC",
        "outputId": "79832ea6-0b88-4dad-b0d3-d840f10d7b6d"
      },
      "execution_count": 8,
      "outputs": [
        {
          "output_type": "stream",
          "name": "stdout",
          "text": [
            "['a', 'b', 'c', 'd', 'e', 'f', 'g', 'h', 'i', 'j', 'k', 'l', 'm', 'n', 'o', 'p', 'q', 'r', 's', 't', 'u', 'v', 'w', 'x', 'y', 'z']\n"
          ]
        }
      ]
    },
    {
      "cell_type": "code",
      "source": [
        "#7\n",
        "\n",
        "import matplotlib.pyplot as plt\n",
        "\n",
        "# This gives us the y-axis of the number of words starting with each letter, using an array of zeros\n",
        "# If a word starts with a letter in the alphabet we have it add 1 to the count in the array of zeros\n",
        "letter_count = np.zeros(len(alphabet))\n",
        "for word in wordlist:\n",
        "  i = 0\n",
        "  for letter in alphabet:\n",
        "    if word.startswith(letter) == True:\n",
        "      letter_count[i] += 1\n",
        "    i += 1\n",
        "\n",
        "x1 = alphabet\n",
        "y1 = letter_count\n",
        "\n",
        "#creating the bar graph\n",
        "plt.bar(x1, y1, color='rebeccapurple')\n",
        "plt.plot()\n",
        "\n",
        "plt.xlabel(\"Letter\")\n",
        "plt.ylabel(\"Number of words that start with letter\")\n",
        "plt.title(\"Number of words starting with each letter\")\n",
        "plt.show()\n"
      ],
      "metadata": {
        "colab": {
          "base_uri": "https://localhost:8080/",
          "height": 472
        },
        "id": "W-FY214OOZX-",
        "outputId": "3221947d-b84e-4c7d-978b-77b11f6504fc"
      },
      "execution_count": 9,
      "outputs": [
        {
          "output_type": "display_data",
          "data": {
            "text/plain": [
              "<Figure size 640x480 with 1 Axes>"
            ],
            "image/png": "[encoded data removed]"
          },
          "metadata": {}
        }
      ]
    },
    {
      "cell_type": "code",
      "source": [
        "#8\n",
        "\n",
        "#this puts the length of each word into an array of zeros\n",
        "#it adds 1 for each letter in the word and then associates the number of letters with a word length\n",
        "word_length = np.zeros(len(wordlist))\n",
        "\n",
        "i=0\n",
        "for word in wordlist:\n",
        "  for letter in word:\n",
        "    word_length[i] += 1\n",
        "  i += 1\n",
        "\n",
        "#create a dictionary that associates each word in the list with the length of that word\n",
        "words_and_length = (dict(zip(wordlist, word_length)))\n",
        "\n",
        "#this orders the words by their length and pulls the last 6 words (the longest 6) from the dictionary\n",
        "sorted_words_and_length = sorted(words_and_length.items(), key=lambda item: item[1])\n",
        "longest_words_and_length = dict(sorted_words_and_length[234444:])\n",
        "\n",
        "#creates a list out of the dictionary keys (just the words and not their associated length)\n",
        "sixwords = list(longest_words_and_length.keys())\n",
        "\n",
        "print(\"These are the six longest words in the list: \" + str(sixwords))"
      ],
      "metadata": {
        "colab": {
          "base_uri": "https://localhost:8080/"
        },
        "id": "VdYsM2VdTmQI",
        "outputId": "7f63d70c-93cd-40d8-fd5f-81da17a390df"
      },
      "execution_count": 10,
      "outputs": [
        {
          "output_type": "stream",
          "name": "stdout",
          "text": [
            "These are the six longest words in the list: ['scientificophilosophical', 'pathologicopsychological', 'tetraiodophenolphthalein', 'thyroparathyroidectomize', 'formaldehydesulphoxylate', 'antidisestablishmentarianism']\n"
          ]
        }
      ]
    },
    {
      "cell_type": "code",
      "source": [
        "#9\n",
        "\n",
        "import pandas as pd\n",
        "#this is the same function as above that gives us the word lengths\n",
        "word_length = np.zeros(len(wordlist))\n",
        "\n",
        "i = 0\n",
        "for word in wordlist:\n",
        "  for letter in word:\n",
        "      word_length[i] += 1\n",
        "  i += 1\n",
        "\n",
        "#this orders the words by length\n",
        "sorted_word_length = sorted(word_length)\n",
        "\n",
        "#creating the histogram, 28 bins to account for the biggest word with 28 letters\n",
        "y, x, _  = plt.hist(sorted_word_length, bins=28, color = 'coral')\n",
        "plt.xlabel(\"Word length\")\n",
        "plt.ylabel(\"Number of words at each length\")\n",
        "plt.title(\"Number of words at different word lengths\")\n",
        "plt.show()\n",
        "\n",
        "print(\"The approximate most common length of a word is: \" + str(x[np.where(y == y.max())]))\n",
        "\n",
        "#the most common length of a word in wordlist is approximately 9"
      ],
      "metadata": {
        "colab": {
          "base_uri": "https://localhost:8080/",
          "height": 490
        },
        "id": "6Rsmj7tfeFCr",
        "outputId": "3f70b36e-943b-42d9-cb58-eb375467f9f2"
      },
      "execution_count": 11,
      "outputs": [
        {
          "output_type": "display_data",
          "data": {
            "text/plain": [
              "<Figure size 640x480 with 1 Axes>"
            ],
            "image/png": "[encoded data removed]"
          },
          "metadata": {}
        },
        {
          "output_type": "stream",
          "name": "stdout",
          "text": [
            "The approximate most common length of a word is: [8.71428571]\n"
          ]
        }
      ]
    },
    {
      "cell_type": "code",
      "source": [
        "#10\n",
        "\n",
        "#this function goes through each word to find the letters 'a' and 'v'\n",
        "#it only adds to the count if both letters are in the word\n",
        "v_and_a_count = 0\n",
        "for eachWord in wordlist:\n",
        "  if \"v\" in eachWord and \"a\" in eachWord:\n",
        "    v_and_a_count += 1\n",
        "\n",
        "print(\"The number of words that have both V and A is: \" + (str(v_and_a_count)))\n",
        "\n",
        "w_and_l_count = 0\n",
        "for eachWord in wordlist:\n",
        "  if \"w\" in eachWord and \"l\" in eachWord:\n",
        "    w_and_l_count += 1\n",
        "\n",
        "print(\"The number of words that have both W and L is: \" + (str(w_and_l_count)))\n",
        "\n",
        "#this loops through the wordlist once (for each function) and takes 0 seconds\n"
      ],
      "metadata": {
        "colab": {
          "base_uri": "https://localhost:8080/"
        },
        "id": "hqOcg7wfOJcM",
        "outputId": "9c3183b0-e8a1-4c79-8470-6b2999fe38b4"
      },
      "execution_count": 14,
      "outputs": [
        {
          "output_type": "stream",
          "name": "stdout",
          "text": [
            "The number of words that have both V and A is: 11347\n",
            "The number of words that have both W and L is: 4822\n"
          ]
        }
      ]
    }
  ]
}