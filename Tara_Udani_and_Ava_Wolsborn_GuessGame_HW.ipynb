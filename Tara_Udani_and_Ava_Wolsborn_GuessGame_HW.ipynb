{
  "nbformat": 4,
  "nbformat_minor": 0,
  "metadata": {
    "colab": {
      "provenance": [],
      "include_colab_link": true
    },
    "kernelspec": {
      "name": "python3",
      "display_name": "Python 3"
    },
    "language_info": {
      "name": "python"
    }
  },
  "cells": [
    {
      "cell_type": "markdown",
      "metadata": {
        "id": "view-in-github",
        "colab_type": "text"
      },
      "source": [
        "<a href=\"https://colab.research.google.com/github/taraudani/DS1002-S24---Tara-Udani/blob/main/Tara_Udani_and_Ava_Wolsborn_GuessGame_HW.ipynb\" target=\"_parent\"><img src=\"https://colab.research.google.com/assets/colab-badge.svg\" alt=\"Open In Colab\"/></a>"
      ]
    },
    {
      "cell_type": "markdown",
      "source": [
        "**Tara Udani and Ava Wolsborn**\n",
        "\n",
        "It took us 45 minutes to complete this assignment."
      ],
      "metadata": {
        "id": "ZsDbY00Eu3er"
      }
    },
    {
      "cell_type": "code",
      "execution_count": null,
      "metadata": {
        "colab": {
          "base_uri": "https://localhost:8080/"
        },
        "id": "Nlbhrve1jkIY",
        "outputId": "06b86975-2c75-4ab4-8c92-bd3daa68c155"
      },
      "outputs": [
        {
          "output_type": "stream",
          "name": "stdout",
          "text": [
            "Guess a number between 0 and 100\n",
            "3.5\n",
            "Invalid input, try an integer between 0 and 100\n",
            "1000\n",
            "Try again with an integer between 0 and 100\n",
            "40\n",
            "too low\n",
            "60\n",
            "too high\n",
            "50\n",
            "too low\n",
            "55\n",
            "You got it!\n"
          ]
        }
      ],
      "source": [
        "# importing numpy and generating a number 0 through 100\n",
        "import numpy as np\n",
        "answer = np.random.randint(100)\n",
        "\n",
        "print(\"Guess a number between 0 and 100\")\n",
        "\n",
        "success = False\n",
        "\n",
        "# while loop will run until answer is correct when success variable is changed\n",
        "while success == False:\n",
        "  guess = input()\n",
        "  # try statement allows us to detect when an input is invalid and warn the user\n",
        "  try:\n",
        "    # we had to learn to cast the guess to be an integer, as the input processes it as a string\n",
        "    if int(guess) == answer:\n",
        "      print(\"You got it!\")\n",
        "      success = True\n",
        "    else:\n",
        "      if int(guess) >= 0 and int(guess) <= 100:\n",
        "        if int(guess) > answer:\n",
        "          print(\"too high\")\n",
        "        else:\n",
        "          print(\"too low\")\n",
        "      # warns if the user had a number out of 0 - 100 range\n",
        "      else:\n",
        "        print(\"Try again with an integer between 0 and 100\")\n",
        "  # warns if the user input a non-integer\n",
        "  except:\n",
        "    print(\"Invalid input, try an integer between 0 and 100\")"
      ]
    }
  ]
}