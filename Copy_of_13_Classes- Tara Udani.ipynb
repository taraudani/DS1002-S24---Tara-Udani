{
  "nbformat": 4,
  "nbformat_minor": 0,
  "metadata": {
    "colab": {
      "provenance": [],
      "include_colab_link": true
    },
    "kernelspec": {
      "name": "python3",
      "display_name": "Python 3"
    },
    "language_info": {
      "name": "python"
    }
  },
  "cells": [
    {
      "cell_type": "markdown",
      "metadata": {
        "id": "view-in-github",
        "colab_type": "text"
      },
      "source": [
        "<a href=\"https://colab.research.google.com/github/taraudani/DS1002-S24---Tara-Udani/blob/main/Copy_of_13_Classes-%20Tara%20Udani.ipynb\" target=\"_parent\"><img src=\"https://colab.research.google.com/assets/colab-badge.svg\" alt=\"Open In Colab\"/></a>"
      ]
    },
    {
      "cell_type": "markdown",
      "source": [
        "## Assignment:  Classes\n",
        "### Due Sunday 28 April at 10pm"
      ],
      "metadata": {
        "id": "5Vy93BSp9Tum"
      }
    },
    {
      "cell_type": "markdown",
      "source": [
        "1.  Define a class called `Person` that has attributes `lastName`, `firstName`, `mother`, and `father`.  Both `mother` and `father` should have default value `unknown`.\n",
        "\n",
        "  Include a `__str__()` function that returns a string of the form '`firstName` `lastName`'.\n",
        "\n",
        "  Include a `__repr__()` function that returns a string that can be evaluated to recreate the `Person` object.\n",
        "\n"
      ],
      "metadata": {
        "id": "vcj5XQAI9Wsb"
      }
    },
    {
      "cell_type": "code",
      "source": [
        "class Person:\n",
        "  def __init__(self,lastName, firstName, mother, father):\n",
        "    self.lastName = lastName\n",
        "    self.firstName = firstName\n",
        "    self.mother = mother\n",
        "    self.father = father\n",
        "  def __str__(self):\n",
        "    return str(self.firstName) + \" \" + str(self.lastName)\n",
        "  def __repr__(self):\n",
        "    return f'Person({self.lastName}, {self.firstName}, {self.mother}, {self.father})'"
      ],
      "metadata": {
        "id": "mjHDwHv3EpVe"
      },
      "execution_count": 60,
      "outputs": []
    },
    {
      "cell_type": "markdown",
      "source": [
        "Create a person (i.e., a `Person` object) called `p` with unknown parents.  (You will need to give your person a first and last name.) Check the type of `p`.  Include all inputs and outputs."
      ],
      "metadata": {
        "id": "-ppMsEIVHINl"
      }
    },
    {
      "cell_type": "code",
      "source": [
        "p = Person(\"Wolsborn\", \"Ava\", None, None)\n",
        "print(p.firstName)\n",
        "print(p.lastName)"
      ],
      "metadata": {
        "id": "5bwid_6gHIBH",
        "colab": {
          "base_uri": "https://localhost:8080/"
        },
        "outputId": "922f0c75-acd3-44c8-ddc5-0c595ea97785"
      },
      "execution_count": 61,
      "outputs": [
        {
          "output_type": "stream",
          "name": "stdout",
          "text": [
            "Ava\n",
            "Wolsborn\n"
          ]
        }
      ]
    },
    {
      "cell_type": "markdown",
      "source": [
        "Verify that your `__str__` and `__repr__` functions are doing what they are supposed to do.  Include all inputs and outputs."
      ],
      "metadata": {
        "id": "Z6zlUC3xRtal"
      }
    },
    {
      "cell_type": "code",
      "source": [
        "print(str(p))\n",
        "print(repr(p))"
      ],
      "metadata": {
        "id": "jZO0dBQYRs-K",
        "colab": {
          "base_uri": "https://localhost:8080/"
        },
        "outputId": "bf4ea855-9593-4b85-9014-cb291a0bb0a1"
      },
      "execution_count": 62,
      "outputs": [
        {
          "output_type": "stream",
          "name": "stdout",
          "text": [
            "Ava Wolsborn\n",
            "Person(Wolsborn, Ava, None, None)\n"
          ]
        }
      ]
    },
    {
      "cell_type": "markdown",
      "source": [
        "Suppose the mother of `p` has been found and is named Taylor Swift.  Create a new person named Taylor Swift, and make her the mother of `p`:\n",
        "\n",
        "```\n",
        "> p.mother\n",
        "'Taylor Swift'\n",
        "```"
      ],
      "metadata": {
        "id": "1mOAThQiHzoQ"
      }
    },
    {
      "cell_type": "code",
      "source": [
        "ts = Person(\"Swift\", \"Taylor\", None, None)\n",
        "#defines the person's mother as taylor swift\n",
        "p.mother = ts\n",
        "print(repr(p))"
      ],
      "metadata": {
        "id": "NYbDOorpHymz",
        "colab": {
          "base_uri": "https://localhost:8080/"
        },
        "outputId": "5d721b21-02b2-48cc-8bf1-91b347ddc87b"
      },
      "execution_count": 63,
      "outputs": [
        {
          "output_type": "stream",
          "name": "stdout",
          "text": [
            "Person(Wolsborn, Ava, Taylor Swift, None)\n"
          ]
        }
      ]
    },
    {
      "cell_type": "markdown",
      "source": [
        "2.  Add some methods to your class.  Start by copying the `class` definition you already wrote.  Then, inside the `class` definition:\n",
        "\n",
        "  (a) Write a method called `unknownParent()` which returns `True` if any parent is 'unknown' and `False` otherwise.\n",
        "\n",
        "  (b) Write a method called `maternalGrandmother()` which returns the mother's mother.  If the mother is unknown, it should return 'unknown'.\n",
        "\n"
      ],
      "metadata": {
        "id": "1g1pcrmFHzGh"
      }
    },
    {
      "cell_type": "code",
      "source": [
        "class Person:\n",
        "  def __init__(self,lastName, firstName, mother, father):\n",
        "    self.lastName = lastName\n",
        "    self.firstName = firstName\n",
        "    self.mother = mother\n",
        "    self.father = father\n",
        "  def __str__(self):\n",
        "    return str(self.firstName) + \" \" + str(self.lastName)\n",
        "  def __repr__(self):\n",
        "    return f'Person({self.lastName}, {self.firstName}, {self.mother}, {self.father})'\n",
        "\n",
        "  def unknownParent(self):\n",
        "    if self.mother == None or self.father == None:\n",
        "      return True\n",
        "    else:\n",
        "      return False\n",
        "\n",
        "# self.mother calls the person's mother, self.mother.mother calls the p.mother's mother, aka the maternal grandmother\n",
        "  def maternalGrandmother(self):\n",
        "    if self.mother == None or self.mother.mother == None:\n",
        "      return \"Unknown\"\n",
        "    else:\n",
        "      return self.mother.mother"
      ],
      "metadata": {
        "id": "7mIxJGwwKTpv"
      },
      "execution_count": 64,
      "outputs": []
    },
    {
      "cell_type": "markdown",
      "source": [
        "Create enough `Person` objects to test whether your methods are working properly.  Show all your inputs and outputs.  It is up to you to demonstrate that you have thoroughly tested the code.  You may use additional code and/or text chunks if it helps."
      ],
      "metadata": {
        "id": "l9-4gxd8FxAQ"
      }
    },
    {
      "cell_type": "code",
      "source": [
        "p = Person(\"Wolsborn\", \"Ava\", None, None)\n",
        "# should say True for unknown parent since no parent is defined, should say unknown for maternal grandmother since no mother or grandmother is defined\n",
        "print(p.unknownParent())\n",
        "print(p.maternalGrandmother())"
      ],
      "metadata": {
        "colab": {
          "base_uri": "https://localhost:8080/"
        },
        "id": "pILqhU8Q94PY",
        "outputId": "1c3a1b49-4e4a-4177-cebf-3cb90a5cefaa"
      },
      "execution_count": 65,
      "outputs": [
        {
          "output_type": "stream",
          "name": "stdout",
          "text": [
            "True\n",
            "Unknown\n"
          ]
        }
      ]
    },
    {
      "cell_type": "code",
      "source": [
        "p = Person(\"Udani\", \"Tara\", \"Julie\", \"Sanjay\")\n",
        "ju = Person(\"Udani\", \"Julie\", \"Kathy\", \"Leo\")\n",
        "p.mother = ju\n",
        "# should say false since the person's parents are defined, and give the name Kathy since the mother's mother (maternal grandmother) is defined\n",
        "print(p.unknownParent())\n",
        "print(p.maternalGrandmother())"
      ],
      "metadata": {
        "colab": {
          "base_uri": "https://localhost:8080/"
        },
        "id": "tvtVAf1M-8yk",
        "outputId": "f09bb61e-a1d1-4ebc-ee1e-9797b46ad801"
      },
      "execution_count": 66,
      "outputs": [
        {
          "output_type": "stream",
          "name": "stdout",
          "text": [
            "False\n",
            "Kathy\n"
          ]
        }
      ]
    },
    {
      "cell_type": "code",
      "source": [
        "p = Person(\"Carpenter\", \"Sabrina\", \"Elizabeth\", \"David\")\n",
        "ec = Person(\"Carpenter\", \"Elizabeth\", None, None)\n",
        "p.mother = ec\n",
        "# should say false since the parents are defined, should sat unknown since the mother's mother is not defined even though the mother is\n",
        "print(p.unknownParent())\n",
        "print(p.maternalGrandmother())"
      ],
      "metadata": {
        "colab": {
          "base_uri": "https://localhost:8080/"
        },
        "id": "9IQoxA-6A_2k",
        "outputId": "93eeec17-7ea8-4069-def0-32b11b1210ab"
      },
      "execution_count": 67,
      "outputs": [
        {
          "output_type": "stream",
          "name": "stdout",
          "text": [
            "False\n",
            "Unknown\n"
          ]
        }
      ]
    }
  ]
}